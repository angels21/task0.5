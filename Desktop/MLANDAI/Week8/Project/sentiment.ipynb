{
 "cells": [
  {
   "cell_type": "markdown",
   "metadata": {
    "id": "mdKs__XISj7p"
   },
   "source": [
    "Link: https://github.com/angels21/sentiment.git"
   ]
  },
  {
   "cell_type": "markdown",
   "metadata": {
    "id": "G53KtVvPxHdR"
   },
   "source": [
    "# Twitter US Airline Sentiment\n"
   ]
  },
  {
   "cell_type": "markdown",
   "metadata": {
    "id": "zuN9CFCyxVF7"
   },
   "source": [
    "A sentiment analysis job about the problems of each major U.S. airline. Twitter data was scraped from\n",
    "February of 2015 and contributors were asked to first classify positive, negative, and neutral tweets, followed\n",
    "by categorizing negative reasons (such as \"late flight\" or \"rude service\").\n"
   ]
  },
  {
   "cell_type": "markdown",
   "metadata": {
    "id": "0rcAdCi1xcXe"
   },
   "source": [
    "## Data Description:\n",
    "The dataset has the following columns:\n",
    "> *   tweet_id\n",
    "*   airline_sentiment\n",
    "*   airline_sentiment_confidence\n",
    "*   negativereason\n",
    "*   negativereason_confidence\n",
    "*   airline\n",
    "*   airline_sentiment_gold\n",
    "*   name\n",
    "*   negativereason_gold\n",
    "*   retweet_count\n",
    "*   text\n",
    "*   tweet_coord\n",
    "*   tweet_created\n",
    "*   tweet_location\n",
    "*   user_timezone\n",
    "\n",
    "\n",
    "\n"
   ]
  },
  {
   "cell_type": "markdown",
   "metadata": {
    "id": "SWT6H4uZ0OXI"
   },
   "source": [
    "## Objective:\n",
    "To implement the techniques learnt as a part of the course, listed in steps and tasks"
   ]
  },
  {
   "cell_type": "markdown",
   "metadata": {
    "id": "b96R4o8B0nJE"
   },
   "source": [
    "##Steps and Tasks\n",
    "1. Import the libraries, load dataset, print shape of data, data description. (5 Marks)\n"
   ]
  },
  {
   "cell_type": "code",
   "execution_count": 1,
   "metadata": {
    "colab": {
     "base_uri": "https://localhost:8080/"
    },
    "executionInfo": {
     "elapsed": 4584,
     "status": "ok",
     "timestamp": 1607694947924,
     "user": {
      "displayName": "Solomon Nuhu",
      "photoUrl": "https://lh3.googleusercontent.com/a-/AOh14Ggv4HA3lMlO6cSybPvdyNLxvAUB7S8iulFIRWU-=s64",
      "userId": "02036511388837544815"
     },
     "user_tz": -60
    },
    "id": "F_4Zvqb7yWw6",
    "outputId": "8a181cdb-90e8-4052-fc05-91500d34f0e6"
   },
   "outputs": [
    {
     "name": "stdout",
     "output_type": "stream",
     "text": [
      "Requirement already satisfied: contractions in /usr/local/lib/python3.6/dist-packages (0.0.43)\n",
      "Requirement already satisfied: textsearch in /usr/local/lib/python3.6/dist-packages (from contractions) (0.0.17)\n",
      "Requirement already satisfied: pyahocorasick in /usr/local/lib/python3.6/dist-packages (from textsearch->contractions) (1.4.0)\n",
      "Requirement already satisfied: Unidecode in /usr/local/lib/python3.6/dist-packages (from textsearch->contractions) (1.1.1)\n",
      "[nltk_data] Downloading package stopwords to /root/nltk_data...\n",
      "[nltk_data]   Package stopwords is already up-to-date!\n",
      "[nltk_data] Downloading package punkt to /root/nltk_data...\n",
      "[nltk_data]   Package punkt is already up-to-date!\n",
      "[nltk_data] Downloading package wordnet to /root/nltk_data...\n",
      "[nltk_data]   Package wordnet is already up-to-date!\n"
     ]
    }
   ],
   "source": [
    "# install and import necessary libraries.\n",
    "\n",
    "!pip install contractions\n",
    "\n",
    "import re, string, unicodedata                          # Import Regex, string and unicodedata.\n",
    "import contractions                                     # Import contractions library.\n",
    "from bs4 import BeautifulSoup                           # Import BeautifulSoup.\n",
    "\n",
    "import numpy as np                                      # Import numpy.\n",
    "import pandas as pd                                     # Import pandas.\n",
    "import nltk                                             # Import Natural Language Tool-Kit.\n",
    "\n",
    "nltk.download('stopwords')                              # Download Stopwords.\n",
    "nltk.download('punkt')\n",
    "nltk.download('wordnet')\n",
    "\n",
    "from nltk.corpus import stopwords                       # Import stopwords.\n",
    "from nltk.tokenize import word_tokenize, sent_tokenize  # Import Tokenizer.\n",
    "from nltk.stem.wordnet import WordNetLemmatizer         # Import Lemmatizer."
   ]
  },
  {
   "cell_type": "code",
   "execution_count": 2,
   "metadata": {
    "executionInfo": {
     "elapsed": 4572,
     "status": "ok",
     "timestamp": 1607694947926,
     "user": {
      "displayName": "Solomon Nuhu",
      "photoUrl": "https://lh3.googleusercontent.com/a-/AOh14Ggv4HA3lMlO6cSybPvdyNLxvAUB7S8iulFIRWU-=s64",
      "userId": "02036511388837544815"
     },
     "user_tz": -60
    },
    "id": "baBh30p3Flir"
   },
   "outputs": [],
   "source": [
    "#Import google drive library\n",
    "from google.colab import drive"
   ]
  },
  {
   "cell_type": "code",
   "execution_count": 3,
   "metadata": {
    "colab": {
     "base_uri": "https://localhost:8080/"
    },
    "executionInfo": {
     "elapsed": 4565,
     "status": "ok",
     "timestamp": 1607694947927,
     "user": {
      "displayName": "Solomon Nuhu",
      "photoUrl": "https://lh3.googleusercontent.com/a-/AOh14Ggv4HA3lMlO6cSybPvdyNLxvAUB7S8iulFIRWU-=s64",
      "userId": "02036511388837544815"
     },
     "user_tz": -60
    },
    "id": "QK6wxpOWFm2g",
    "outputId": "5b5f09a1-1a99-456a-8f1e-918d96a1f1a0"
   },
   "outputs": [
    {
     "name": "stdout",
     "output_type": "stream",
     "text": [
      "Drive already mounted at /content/drive/; to attempt to forcibly remount, call drive.mount(\"/content/drive/\", force_remount=True).\n"
     ]
    }
   ],
   "source": [
    "#Mount the drive\n",
    "drive.mount('/content/drive/')"
   ]
  },
  {
   "cell_type": "code",
   "execution_count": 4,
   "metadata": {
    "executionInfo": {
     "elapsed": 4559,
     "status": "ok",
     "timestamp": 1607694947928,
     "user": {
      "displayName": "Solomon Nuhu",
      "photoUrl": "https://lh3.googleusercontent.com/a-/AOh14Ggv4HA3lMlO6cSybPvdyNLxvAUB7S8iulFIRWU-=s64",
      "userId": "02036511388837544815"
     },
     "user_tz": -60
    },
    "id": "OrrjyMA-FsgT"
   },
   "outputs": [],
   "source": [
    "#Point drive to project directory\n",
    "project_path = '/content/drive/My Drive/Colab Notebooks/'"
   ]
  },
  {
   "cell_type": "code",
   "execution_count": 5,
   "metadata": {
    "executionInfo": {
     "elapsed": 4556,
     "status": "ok",
     "timestamp": 1607694947929,
     "user": {
      "displayName": "Solomon Nuhu",
      "photoUrl": "https://lh3.googleusercontent.com/a-/AOh14Ggv4HA3lMlO6cSybPvdyNLxvAUB7S8iulFIRWU-=s64",
      "userId": "02036511388837544815"
     },
     "user_tz": -60
    },
    "id": "Jzccwz-9F1tQ"
   },
   "outputs": [],
   "source": [
    "#Set path to the project directory \n",
    "dataset_file = project_path + 'Tweets.csv'"
   ]
  },
  {
   "cell_type": "code",
   "execution_count": 6,
   "metadata": {
    "executionInfo": {
     "elapsed": 4549,
     "status": "ok",
     "timestamp": 1607694947930,
     "user": {
      "displayName": "Solomon Nuhu",
      "photoUrl": "https://lh3.googleusercontent.com/a-/AOh14Ggv4HA3lMlO6cSybPvdyNLxvAUB7S8iulFIRWU-=s64",
      "userId": "02036511388837544815"
     },
     "user_tz": -60
    },
    "id": "8YaZaJkl_UVM"
   },
   "outputs": [],
   "source": [
    "# Loading data into pandas dataframe\n",
    "data = pd.read_csv(dataset_file)"
   ]
  },
  {
   "cell_type": "code",
   "execution_count": 7,
   "metadata": {
    "colab": {
     "base_uri": "https://localhost:8080/"
    },
    "executionInfo": {
     "elapsed": 4543,
     "status": "ok",
     "timestamp": 1607694947931,
     "user": {
      "displayName": "Solomon Nuhu",
      "photoUrl": "https://lh3.googleusercontent.com/a-/AOh14Ggv4HA3lMlO6cSybPvdyNLxvAUB7S8iulFIRWU-=s64",
      "userId": "02036511388837544815"
     },
     "user_tz": -60
    },
    "id": "QAxBWyO29Qb6",
    "outputId": "136ebaf9-4e3a-4824-d716-f27e2c4beae5"
   },
   "outputs": [
    {
     "data": {
      "text/plain": [
       "(14640, 15)"
      ]
     },
     "execution_count": 7,
     "metadata": {
      "tags": []
     },
     "output_type": "execute_result"
    }
   ],
   "source": [
    "# print shape of data\n",
    "data.shape                                               "
   ]
  },
  {
   "cell_type": "code",
   "execution_count": 8,
   "metadata": {
    "colab": {
     "base_uri": "https://localhost:8080/",
     "height": 434
    },
    "executionInfo": {
     "elapsed": 4531,
     "status": "ok",
     "timestamp": 1607694947932,
     "user": {
      "displayName": "Solomon Nuhu",
      "photoUrl": "https://lh3.googleusercontent.com/a-/AOh14Ggv4HA3lMlO6cSybPvdyNLxvAUB7S8iulFIRWU-=s64",
      "userId": "02036511388837544815"
     },
     "user_tz": -60
    },
    "id": "LAJWb__77ZNu",
    "outputId": "a950bbc2-8666-4aa9-9ff7-769a602aa0df"
   },
   "outputs": [
    {
     "data": {
      "text/html": [
       "<div>\n",
       "<style scoped>\n",
       "    .dataframe tbody tr th:only-of-type {\n",
       "        vertical-align: middle;\n",
       "    }\n",
       "\n",
       "    .dataframe tbody tr th {\n",
       "        vertical-align: top;\n",
       "    }\n",
       "\n",
       "    .dataframe thead th {\n",
       "        text-align: right;\n",
       "    }\n",
       "</style>\n",
       "<table border=\"1\" class=\"dataframe\">\n",
       "  <thead>\n",
       "    <tr style=\"text-align: right;\">\n",
       "      <th></th>\n",
       "      <th>tweet_id</th>\n",
       "      <th>airline_sentiment</th>\n",
       "      <th>airline_sentiment_confidence</th>\n",
       "      <th>negativereason</th>\n",
       "      <th>negativereason_confidence</th>\n",
       "      <th>airline</th>\n",
       "      <th>airline_sentiment_gold</th>\n",
       "      <th>name</th>\n",
       "      <th>negativereason_gold</th>\n",
       "      <th>retweet_count</th>\n",
       "      <th>text</th>\n",
       "      <th>tweet_coord</th>\n",
       "      <th>tweet_created</th>\n",
       "      <th>tweet_location</th>\n",
       "      <th>user_timezone</th>\n",
       "    </tr>\n",
       "  </thead>\n",
       "  <tbody>\n",
       "    <tr>\n",
       "      <th>0</th>\n",
       "      <td>570306133677760513</td>\n",
       "      <td>neutral</td>\n",
       "      <td>1.0000</td>\n",
       "      <td>NaN</td>\n",
       "      <td>NaN</td>\n",
       "      <td>Virgin America</td>\n",
       "      <td>NaN</td>\n",
       "      <td>cairdin</td>\n",
       "      <td>NaN</td>\n",
       "      <td>0</td>\n",
       "      <td>@VirginAmerica What @dhepburn said.</td>\n",
       "      <td>NaN</td>\n",
       "      <td>2015-02-24 11:35:52 -0800</td>\n",
       "      <td>NaN</td>\n",
       "      <td>Eastern Time (US &amp; Canada)</td>\n",
       "    </tr>\n",
       "    <tr>\n",
       "      <th>1</th>\n",
       "      <td>570301130888122368</td>\n",
       "      <td>positive</td>\n",
       "      <td>0.3486</td>\n",
       "      <td>NaN</td>\n",
       "      <td>0.0000</td>\n",
       "      <td>Virgin America</td>\n",
       "      <td>NaN</td>\n",
       "      <td>jnardino</td>\n",
       "      <td>NaN</td>\n",
       "      <td>0</td>\n",
       "      <td>@VirginAmerica plus you've added commercials t...</td>\n",
       "      <td>NaN</td>\n",
       "      <td>2015-02-24 11:15:59 -0800</td>\n",
       "      <td>NaN</td>\n",
       "      <td>Pacific Time (US &amp; Canada)</td>\n",
       "    </tr>\n",
       "    <tr>\n",
       "      <th>2</th>\n",
       "      <td>570301083672813571</td>\n",
       "      <td>neutral</td>\n",
       "      <td>0.6837</td>\n",
       "      <td>NaN</td>\n",
       "      <td>NaN</td>\n",
       "      <td>Virgin America</td>\n",
       "      <td>NaN</td>\n",
       "      <td>yvonnalynn</td>\n",
       "      <td>NaN</td>\n",
       "      <td>0</td>\n",
       "      <td>@VirginAmerica I didn't today... Must mean I n...</td>\n",
       "      <td>NaN</td>\n",
       "      <td>2015-02-24 11:15:48 -0800</td>\n",
       "      <td>Lets Play</td>\n",
       "      <td>Central Time (US &amp; Canada)</td>\n",
       "    </tr>\n",
       "    <tr>\n",
       "      <th>3</th>\n",
       "      <td>570301031407624196</td>\n",
       "      <td>negative</td>\n",
       "      <td>1.0000</td>\n",
       "      <td>Bad Flight</td>\n",
       "      <td>0.7033</td>\n",
       "      <td>Virgin America</td>\n",
       "      <td>NaN</td>\n",
       "      <td>jnardino</td>\n",
       "      <td>NaN</td>\n",
       "      <td>0</td>\n",
       "      <td>@VirginAmerica it's really aggressive to blast...</td>\n",
       "      <td>NaN</td>\n",
       "      <td>2015-02-24 11:15:36 -0800</td>\n",
       "      <td>NaN</td>\n",
       "      <td>Pacific Time (US &amp; Canada)</td>\n",
       "    </tr>\n",
       "    <tr>\n",
       "      <th>4</th>\n",
       "      <td>570300817074462722</td>\n",
       "      <td>negative</td>\n",
       "      <td>1.0000</td>\n",
       "      <td>Can't Tell</td>\n",
       "      <td>1.0000</td>\n",
       "      <td>Virgin America</td>\n",
       "      <td>NaN</td>\n",
       "      <td>jnardino</td>\n",
       "      <td>NaN</td>\n",
       "      <td>0</td>\n",
       "      <td>@VirginAmerica and it's a really big bad thing...</td>\n",
       "      <td>NaN</td>\n",
       "      <td>2015-02-24 11:14:45 -0800</td>\n",
       "      <td>NaN</td>\n",
       "      <td>Pacific Time (US &amp; Canada)</td>\n",
       "    </tr>\n",
       "  </tbody>\n",
       "</table>\n",
       "</div>"
      ],
      "text/plain": [
       "             tweet_id  ...               user_timezone\n",
       "0  570306133677760513  ...  Eastern Time (US & Canada)\n",
       "1  570301130888122368  ...  Pacific Time (US & Canada)\n",
       "2  570301083672813571  ...  Central Time (US & Canada)\n",
       "3  570301031407624196  ...  Pacific Time (US & Canada)\n",
       "4  570300817074462722  ...  Pacific Time (US & Canada)\n",
       "\n",
       "[5 rows x 15 columns]"
      ]
     },
     "execution_count": 8,
     "metadata": {
      "tags": []
     },
     "output_type": "execute_result"
    }
   ],
   "source": [
    "# Print first 5 rows of data.\n",
    "data.head()                                              "
   ]
  },
  {
   "cell_type": "code",
   "execution_count": 9,
   "metadata": {
    "colab": {
     "base_uri": "https://localhost:8080/",
     "height": 284
    },
    "executionInfo": {
     "elapsed": 4517,
     "status": "ok",
     "timestamp": 1607694947934,
     "user": {
      "displayName": "Solomon Nuhu",
      "photoUrl": "https://lh3.googleusercontent.com/a-/AOh14Ggv4HA3lMlO6cSybPvdyNLxvAUB7S8iulFIRWU-=s64",
      "userId": "02036511388837544815"
     },
     "user_tz": -60
    },
    "id": "xG4TilQJ1iWl",
    "outputId": "12fba188-0f55-4880-bcb8-521fe0b35868"
   },
   "outputs": [
    {
     "data": {
      "text/html": [
       "<div>\n",
       "<style scoped>\n",
       "    .dataframe tbody tr th:only-of-type {\n",
       "        vertical-align: middle;\n",
       "    }\n",
       "\n",
       "    .dataframe tbody tr th {\n",
       "        vertical-align: top;\n",
       "    }\n",
       "\n",
       "    .dataframe thead th {\n",
       "        text-align: right;\n",
       "    }\n",
       "</style>\n",
       "<table border=\"1\" class=\"dataframe\">\n",
       "  <thead>\n",
       "    <tr style=\"text-align: right;\">\n",
       "      <th></th>\n",
       "      <th>tweet_id</th>\n",
       "      <th>airline_sentiment_confidence</th>\n",
       "      <th>negativereason_confidence</th>\n",
       "      <th>retweet_count</th>\n",
       "    </tr>\n",
       "  </thead>\n",
       "  <tbody>\n",
       "    <tr>\n",
       "      <th>count</th>\n",
       "      <td>1.464000e+04</td>\n",
       "      <td>14640.000000</td>\n",
       "      <td>10522.000000</td>\n",
       "      <td>14640.000000</td>\n",
       "    </tr>\n",
       "    <tr>\n",
       "      <th>mean</th>\n",
       "      <td>5.692184e+17</td>\n",
       "      <td>0.900169</td>\n",
       "      <td>0.638298</td>\n",
       "      <td>0.082650</td>\n",
       "    </tr>\n",
       "    <tr>\n",
       "      <th>std</th>\n",
       "      <td>7.791112e+14</td>\n",
       "      <td>0.162830</td>\n",
       "      <td>0.330440</td>\n",
       "      <td>0.745778</td>\n",
       "    </tr>\n",
       "    <tr>\n",
       "      <th>min</th>\n",
       "      <td>5.675883e+17</td>\n",
       "      <td>0.335000</td>\n",
       "      <td>0.000000</td>\n",
       "      <td>0.000000</td>\n",
       "    </tr>\n",
       "    <tr>\n",
       "      <th>25%</th>\n",
       "      <td>5.685592e+17</td>\n",
       "      <td>0.692300</td>\n",
       "      <td>0.360600</td>\n",
       "      <td>0.000000</td>\n",
       "    </tr>\n",
       "    <tr>\n",
       "      <th>50%</th>\n",
       "      <td>5.694779e+17</td>\n",
       "      <td>1.000000</td>\n",
       "      <td>0.670600</td>\n",
       "      <td>0.000000</td>\n",
       "    </tr>\n",
       "    <tr>\n",
       "      <th>75%</th>\n",
       "      <td>5.698905e+17</td>\n",
       "      <td>1.000000</td>\n",
       "      <td>1.000000</td>\n",
       "      <td>0.000000</td>\n",
       "    </tr>\n",
       "    <tr>\n",
       "      <th>max</th>\n",
       "      <td>5.703106e+17</td>\n",
       "      <td>1.000000</td>\n",
       "      <td>1.000000</td>\n",
       "      <td>44.000000</td>\n",
       "    </tr>\n",
       "  </tbody>\n",
       "</table>\n",
       "</div>"
      ],
      "text/plain": [
       "           tweet_id  ...  retweet_count\n",
       "count  1.464000e+04  ...   14640.000000\n",
       "mean   5.692184e+17  ...       0.082650\n",
       "std    7.791112e+14  ...       0.745778\n",
       "min    5.675883e+17  ...       0.000000\n",
       "25%    5.685592e+17  ...       0.000000\n",
       "50%    5.694779e+17  ...       0.000000\n",
       "75%    5.698905e+17  ...       0.000000\n",
       "max    5.703106e+17  ...      44.000000\n",
       "\n",
       "[8 rows x 4 columns]"
      ]
     },
     "execution_count": 9,
     "metadata": {
      "tags": []
     },
     "output_type": "execute_result"
    }
   ],
   "source": [
    "#Description of the data\n",
    "data.describe()"
   ]
  },
  {
   "cell_type": "markdown",
   "metadata": {
    "id": "yqAgZf4-BJwo"
   },
   "source": [
    "2. Understand of data-columns: (5 Marks)\n",
    "\n",
    ">*   a. Drop all other columns except “text” and “airline_sentiment”.\n",
    "*   b. Check the shape of data.\n",
    "*   c. Print first 5 rows of data.  \n"
   ]
  },
  {
   "cell_type": "code",
   "execution_count": 10,
   "metadata": {
    "executionInfo": {
     "elapsed": 4511,
     "status": "ok",
     "timestamp": 1607694947935,
     "user": {
      "displayName": "Solomon Nuhu",
      "photoUrl": "https://lh3.googleusercontent.com/a-/AOh14Ggv4HA3lMlO6cSybPvdyNLxvAUB7S8iulFIRWU-=s64",
      "userId": "02036511388837544815"
     },
     "user_tz": -60
    },
    "id": "_OmnomSVDeME"
   },
   "outputs": [],
   "source": [
    "#Drop all other columns except text and airline_sentiment\n",
    "data = data.loc[:14640, ['text', 'airline_sentiment']]"
   ]
  },
  {
   "cell_type": "code",
   "execution_count": 11,
   "metadata": {
    "colab": {
     "base_uri": "https://localhost:8080/"
    },
    "executionInfo": {
     "elapsed": 4502,
     "status": "ok",
     "timestamp": 1607694947936,
     "user": {
      "displayName": "Solomon Nuhu",
      "photoUrl": "https://lh3.googleusercontent.com/a-/AOh14Ggv4HA3lMlO6cSybPvdyNLxvAUB7S8iulFIRWU-=s64",
      "userId": "02036511388837544815"
     },
     "user_tz": -60
    },
    "id": "RjJLVe13Ec2g",
    "outputId": "afabc85f-9faf-438c-aa59-5a757f089fc9"
   },
   "outputs": [
    {
     "data": {
      "text/plain": [
       "(14640, 2)"
      ]
     },
     "execution_count": 11,
     "metadata": {
      "tags": []
     },
     "output_type": "execute_result"
    }
   ],
   "source": [
    "#Shape of data after dropping all colums except two\n",
    "data.shape"
   ]
  },
  {
   "cell_type": "code",
   "execution_count": 12,
   "metadata": {
    "colab": {
     "base_uri": "https://localhost:8080/"
    },
    "executionInfo": {
     "elapsed": 4496,
     "status": "ok",
     "timestamp": 1607694947939,
     "user": {
      "displayName": "Solomon Nuhu",
      "photoUrl": "https://lh3.googleusercontent.com/a-/AOh14Ggv4HA3lMlO6cSybPvdyNLxvAUB7S8iulFIRWU-=s64",
      "userId": "02036511388837544815"
     },
     "user_tz": -60
    },
    "id": "-Fi1xVk_0g1v",
    "outputId": "93eba489-c2c8-4eb4-a28a-3e2e460a7692"
   },
   "outputs": [
    {
     "data": {
      "text/plain": [
       "text                 0\n",
       "airline_sentiment    0\n",
       "dtype: int64"
      ]
     },
     "execution_count": 12,
     "metadata": {
      "tags": []
     },
     "output_type": "execute_result"
    }
   ],
   "source": [
    "# Check for NULL values.\n",
    "data.isnull().sum(axis=0)                               "
   ]
  },
  {
   "cell_type": "code",
   "execution_count": 13,
   "metadata": {
    "colab": {
     "base_uri": "https://localhost:8080/",
     "height": 195
    },
    "executionInfo": {
     "elapsed": 4484,
     "status": "ok",
     "timestamp": 1607694947940,
     "user": {
      "displayName": "Solomon Nuhu",
      "photoUrl": "https://lh3.googleusercontent.com/a-/AOh14Ggv4HA3lMlO6cSybPvdyNLxvAUB7S8iulFIRWU-=s64",
      "userId": "02036511388837544815"
     },
     "user_tz": -60
    },
    "id": "TjIPyqekE_Vm",
    "outputId": "820b2d35-5e39-4e10-a1d6-a23d4330cb46"
   },
   "outputs": [
    {
     "data": {
      "text/html": [
       "<div>\n",
       "<style scoped>\n",
       "    .dataframe tbody tr th:only-of-type {\n",
       "        vertical-align: middle;\n",
       "    }\n",
       "\n",
       "    .dataframe tbody tr th {\n",
       "        vertical-align: top;\n",
       "    }\n",
       "\n",
       "    .dataframe thead th {\n",
       "        text-align: right;\n",
       "    }\n",
       "</style>\n",
       "<table border=\"1\" class=\"dataframe\">\n",
       "  <thead>\n",
       "    <tr style=\"text-align: right;\">\n",
       "      <th></th>\n",
       "      <th>text</th>\n",
       "      <th>airline_sentiment</th>\n",
       "    </tr>\n",
       "  </thead>\n",
       "  <tbody>\n",
       "    <tr>\n",
       "      <th>0</th>\n",
       "      <td>@VirginAmerica What @dhepburn said.</td>\n",
       "      <td>neutral</td>\n",
       "    </tr>\n",
       "    <tr>\n",
       "      <th>1</th>\n",
       "      <td>@VirginAmerica plus you've added commercials to the experience... tacky.</td>\n",
       "      <td>positive</td>\n",
       "    </tr>\n",
       "    <tr>\n",
       "      <th>2</th>\n",
       "      <td>@VirginAmerica I didn't today... Must mean I need to take another trip!</td>\n",
       "      <td>neutral</td>\n",
       "    </tr>\n",
       "    <tr>\n",
       "      <th>3</th>\n",
       "      <td>@VirginAmerica it's really aggressive to blast obnoxious \"entertainment\" in your guests' faces &amp;amp; they have little recourse</td>\n",
       "      <td>negative</td>\n",
       "    </tr>\n",
       "    <tr>\n",
       "      <th>4</th>\n",
       "      <td>@VirginAmerica and it's a really big bad thing about it</td>\n",
       "      <td>negative</td>\n",
       "    </tr>\n",
       "  </tbody>\n",
       "</table>\n",
       "</div>"
      ],
      "text/plain": [
       "                                                                                                                             text airline_sentiment\n",
       "0                                                                                             @VirginAmerica What @dhepburn said.           neutral\n",
       "1                                                        @VirginAmerica plus you've added commercials to the experience... tacky.          positive\n",
       "2                                                         @VirginAmerica I didn't today... Must mean I need to take another trip!           neutral\n",
       "3  @VirginAmerica it's really aggressive to blast obnoxious \"entertainment\" in your guests' faces &amp; they have little recourse          negative\n",
       "4                                                                         @VirginAmerica and it's a really big bad thing about it          negative"
      ]
     },
     "execution_count": 13,
     "metadata": {
      "tags": []
     },
     "output_type": "execute_result"
    }
   ],
   "source": [
    "# Display full dataframe information (Non-turncated Text column.)\n",
    "pd.set_option('display.max_colwidth', None) \n",
    "#Print first five rows\n",
    "data.head()"
   ]
  },
  {
   "cell_type": "markdown",
   "metadata": {
    "id": "WWnUIzrEGcbb"
   },
   "source": [
    "3. Text pre-processing: Data preparation. (20 Marks)\n",
    "\n",
    "> *   a. Html tag removal.\n",
    "*   b. Tokenization.\n",
    "*   c. Remove the numbers.\n",
    "*   d. Removal of Special Characters and Punctuations.\n",
    "*   e. Conversion to lowercase.\n",
    "*   f. Lemmatize or stemming.\n",
    "*   g. Join the words in the list to convert back to text string in the dataframe. (So that each row\n",
    "contains the data in text format.)\n",
    "*   h. Print first 5 rows of data after pre-processing"
   ]
  },
  {
   "cell_type": "code",
   "execution_count": 14,
   "metadata": {
    "executionInfo": {
     "elapsed": 4478,
     "status": "ok",
     "timestamp": 1607694947943,
     "user": {
      "displayName": "Solomon Nuhu",
      "photoUrl": "https://lh3.googleusercontent.com/a-/AOh14Ggv4HA3lMlO6cSybPvdyNLxvAUB7S8iulFIRWU-=s64",
      "userId": "02036511388837544815"
     },
     "user_tz": -60
    },
    "id": "vWqes1AaGmQ0"
   },
   "outputs": [],
   "source": [
    "#a. Html tag removal\n",
    "def strip_html_cleanup(text):\n",
    "  # 1. Remove HTML tag\n",
    "  soup = BeautifulSoup(text, \"html.parser\").get_text()\n",
    "  return soup"
   ]
  },
  {
   "cell_type": "code",
   "execution_count": 15,
   "metadata": {
    "executionInfo": {
     "elapsed": 4475,
     "status": "ok",
     "timestamp": 1607694947945,
     "user": {
      "displayName": "Solomon Nuhu",
      "photoUrl": "https://lh3.googleusercontent.com/a-/AOh14Ggv4HA3lMlO6cSybPvdyNLxvAUB7S8iulFIRWU-=s64",
      "userId": "02036511388837544815"
     },
     "user_tz": -60
    },
    "id": "L9PeFfL9yfW1"
   },
   "outputs": [],
   "source": [
    "def replace_contractions(text):                    \n",
    "    \"\"\"Replace contractions in string of text\"\"\"\n",
    "    return contractions.fix(text)"
   ]
  },
  {
   "cell_type": "code",
   "execution_count": 16,
   "metadata": {
    "executionInfo": {
     "elapsed": 4474,
     "status": "ok",
     "timestamp": 1607694947948,
     "user": {
      "displayName": "Solomon Nuhu",
      "photoUrl": "https://lh3.googleusercontent.com/a-/AOh14Ggv4HA3lMlO6cSybPvdyNLxvAUB7S8iulFIRWU-=s64",
      "userId": "02036511388837544815"
     },
     "user_tz": -60
    },
    "id": "yHi7sFukL1mB"
   },
   "outputs": [],
   "source": [
    "#b. Tokenization\n",
    "def perform_tokenization(text):\n",
    "  # 2. Perform Tokenization\n",
    "  word_tokens = word_tokenize(text)\n",
    "  return word_tokens"
   ]
  },
  {
   "cell_type": "code",
   "execution_count": 17,
   "metadata": {
    "executionInfo": {
     "elapsed": 4469,
     "status": "ok",
     "timestamp": 1607694947950,
     "user": {
      "displayName": "Solomon Nuhu",
      "photoUrl": "https://lh3.googleusercontent.com/a-/AOh14Ggv4HA3lMlO6cSybPvdyNLxvAUB7S8iulFIRWU-=s64",
      "userId": "02036511388837544815"
     },
     "user_tz": -60
    },
    "id": "uSpivjbVymD5"
   },
   "outputs": [],
   "source": [
    "#c. Remove numbers\n",
    "def remove_numbers(list_of_words): \n",
    "#def remove_numbers(text):\n",
    "  #text = re.sub(r'\\d+', '', text)\n",
    "  list = [re.sub(r'\\d+', '', i) for i in list_of_words] \n",
    "  return list"
   ]
  },
  {
   "cell_type": "code",
   "execution_count": 18,
   "metadata": {
    "executionInfo": {
     "elapsed": 4464,
     "status": "ok",
     "timestamp": 1607694947951,
     "user": {
      "displayName": "Solomon Nuhu",
      "photoUrl": "https://lh3.googleusercontent.com/a-/AOh14Ggv4HA3lMlO6cSybPvdyNLxvAUB7S8iulFIRWU-=s64",
      "userId": "02036511388837544815"
     },
     "user_tz": -60
    },
    "id": "Yn5Is9LfMsj1"
   },
   "outputs": [],
   "source": [
    "#d. Removal of Special Characters and Punctuations.\n",
    "def remove_special_character_punctuation(list_of_words): \n",
    "    pattern = '[^A-Za-z0-9]+'\n",
    "    list = [re.sub(pattern, '', i) for i in list_of_words] \n",
    "    return list"
   ]
  },
  {
   "cell_type": "code",
   "execution_count": 19,
   "metadata": {
    "executionInfo": {
     "elapsed": 4460,
     "status": "ok",
     "timestamp": 1607694947953,
     "user": {
      "displayName": "Solomon Nuhu",
      "photoUrl": "https://lh3.googleusercontent.com/a-/AOh14Ggv4HA3lMlO6cSybPvdyNLxvAUB7S8iulFIRWU-=s64",
      "userId": "02036511388837544815"
     },
     "user_tz": -60
    },
    "id": "HO6_zhGjM2fI"
   },
   "outputs": [],
   "source": [
    "# Remove punctuations\n",
    "def remove_punctuation(words):\n",
    "    \"\"\"Remove punctuation from list of tokenized words\"\"\"\n",
    "    new_words = []                        # Create empty list to store pre-processed words.\n",
    "    for word in words:\n",
    "        new_word = re.sub(r'[^\\w\\s]', '', word)\n",
    "        if new_word != '':\n",
    "            new_words.append(new_word)    # Append processed words to new list.\n",
    "    return new_words"
   ]
  },
  {
   "cell_type": "code",
   "execution_count": 20,
   "metadata": {
    "executionInfo": {
     "elapsed": 4831,
     "status": "ok",
     "timestamp": 1607694948329,
     "user": {
      "displayName": "Solomon Nuhu",
      "photoUrl": "https://lh3.googleusercontent.com/a-/AOh14Ggv4HA3lMlO6cSybPvdyNLxvAUB7S8iulFIRWU-=s64",
      "userId": "02036511388837544815"
     },
     "user_tz": -60
    },
    "id": "FiB7PASMNi66"
   },
   "outputs": [],
   "source": [
    "#e. Convertion to lower case\n",
    "def to_lowercase(words):\n",
    "    \"\"\"Convert all characters to lowercase from list of tokenized words\"\"\"\n",
    "    new_words = []                        # Create empty list to store pre-processed words.\n",
    "    for word in words:\n",
    "        new_word = word.lower()           # Converting to lowercase\n",
    "        new_words.append(new_word)        # Append processed words to new list.\n",
    "    return new_words"
   ]
  },
  {
   "cell_type": "code",
   "execution_count": 21,
   "metadata": {
    "executionInfo": {
     "elapsed": 4828,
     "status": "ok",
     "timestamp": 1607694948330,
     "user": {
      "displayName": "Solomon Nuhu",
      "photoUrl": "https://lh3.googleusercontent.com/a-/AOh14Ggv4HA3lMlO6cSybPvdyNLxvAUB7S8iulFIRWU-=s64",
      "userId": "02036511388837544815"
     },
     "user_tz": -60
    },
    "id": "cn84bvhpNu_3"
   },
   "outputs": [],
   "source": [
    "#Remove empty string\n",
    "def remove_empty_string(words):\n",
    "  return list(filter(None, words))"
   ]
  },
  {
   "cell_type": "code",
   "execution_count": 22,
   "metadata": {
    "executionInfo": {
     "elapsed": 4823,
     "status": "ok",
     "timestamp": 1607694948330,
     "user": {
      "displayName": "Solomon Nuhu",
      "photoUrl": "https://lh3.googleusercontent.com/a-/AOh14Ggv4HA3lMlO6cSybPvdyNLxvAUB7S8iulFIRWU-=s64",
      "userId": "02036511388837544815"
     },
     "user_tz": -60
    },
    "id": "clXNHYxZOidy"
   },
   "outputs": [],
   "source": [
    "#f. Lemmatization\n",
    "def lemmatize_verbs(words):\n",
    "    \"\"\"Lemmatize verbs in list of tokenized words\"\"\"\n",
    "    lemmatizer = WordNetLemmatizer()\n",
    "    lemmas = []                           # Create empty list to store pre-processed words.\n",
    "    for word in words:\n",
    "        lemma = lemmatizer.lemmatize(word, pos='v')\n",
    "        lemmas.append(lemma)              # Append processed words to new list.\n",
    "    return lemmas"
   ]
  },
  {
   "cell_type": "code",
   "execution_count": 23,
   "metadata": {
    "executionInfo": {
     "elapsed": 4818,
     "status": "ok",
     "timestamp": 1607694948331,
     "user": {
      "displayName": "Solomon Nuhu",
      "photoUrl": "https://lh3.googleusercontent.com/a-/AOh14Ggv4HA3lMlO6cSybPvdyNLxvAUB7S8iulFIRWU-=s64",
      "userId": "02036511388837544815"
     },
     "user_tz": -60
    },
    "id": "TR00LFLWO4oe"
   },
   "outputs": [],
   "source": [
    "#Perform complete pre-processing\n",
    "def perform_cleanup(text):\n",
    "    clean_text = strip_html_cleanup(text)\n",
    "    clean_text = replace_contractions(clean_text)\n",
    "    clean_text = perform_tokenization(clean_text)\n",
    "    clean_text = remove_numbers(clean_text)\n",
    "    clean_text = remove_special_character_punctuation(clean_text)\n",
    "    clean_text = remove_punctuation(clean_text)\n",
    "    clean_text  = to_lowercase(clean_text)\n",
    "    clean_text = remove_empty_string(clean_text)\n",
    "    clean_text = lemmatize_verbs(clean_text)\n",
    "    return clean_text"
   ]
  },
  {
   "cell_type": "code",
   "execution_count": 24,
   "metadata": {
    "executionInfo": {
     "elapsed": 17300,
     "status": "ok",
     "timestamp": 1607694960817,
     "user": {
      "displayName": "Solomon Nuhu",
      "photoUrl": "https://lh3.googleusercontent.com/a-/AOh14Ggv4HA3lMlO6cSybPvdyNLxvAUB7S8iulFIRWU-=s64",
      "userId": "02036511388837544815"
     },
     "user_tz": -60
    },
    "id": "FkuUtycCPX3F"
   },
   "outputs": [],
   "source": [
    "#g. Join the words in the list to convert back to text string in the dataframe\n",
    "clean_texts = []\n",
    "\n",
    "for i, row in data.iterrows():\n",
    "    words = data.at[i, 'text']\n",
    "    words = perform_cleanup(words)\n",
    "    data.at[i,'text'] = \" \".join( words )\n",
    "    clean_texts.append( data.at[i, 'text'] )"
   ]
  },
  {
   "cell_type": "code",
   "execution_count": 25,
   "metadata": {
    "colab": {
     "base_uri": "https://localhost:8080/",
     "height": 195
    },
    "executionInfo": {
     "elapsed": 17295,
     "status": "ok",
     "timestamp": 1607694960823,
     "user": {
      "displayName": "Solomon Nuhu",
      "photoUrl": "https://lh3.googleusercontent.com/a-/AOh14Ggv4HA3lMlO6cSybPvdyNLxvAUB7S8iulFIRWU-=s64",
      "userId": "02036511388837544815"
     },
     "user_tz": -60
    },
    "id": "j_84tO-0RVx2",
    "outputId": "3885ace2-c6f1-4a9c-ad96-7acde0e1220d"
   },
   "outputs": [
    {
     "data": {
      "text/html": [
       "<div>\n",
       "<style scoped>\n",
       "    .dataframe tbody tr th:only-of-type {\n",
       "        vertical-align: middle;\n",
       "    }\n",
       "\n",
       "    .dataframe tbody tr th {\n",
       "        vertical-align: top;\n",
       "    }\n",
       "\n",
       "    .dataframe thead th {\n",
       "        text-align: right;\n",
       "    }\n",
       "</style>\n",
       "<table border=\"1\" class=\"dataframe\">\n",
       "  <thead>\n",
       "    <tr style=\"text-align: right;\">\n",
       "      <th></th>\n",
       "      <th>text</th>\n",
       "      <th>airline_sentiment</th>\n",
       "    </tr>\n",
       "  </thead>\n",
       "  <tbody>\n",
       "    <tr>\n",
       "      <th>0</th>\n",
       "      <td>virginamerica what dhepburn say</td>\n",
       "      <td>neutral</td>\n",
       "    </tr>\n",
       "    <tr>\n",
       "      <th>1</th>\n",
       "      <td>virginamerica plus you have add commercials to the experience tacky</td>\n",
       "      <td>positive</td>\n",
       "    </tr>\n",
       "    <tr>\n",
       "      <th>2</th>\n",
       "      <td>virginamerica i do not today must mean i need to take another trip</td>\n",
       "      <td>neutral</td>\n",
       "    </tr>\n",
       "    <tr>\n",
       "      <th>3</th>\n",
       "      <td>virginamerica it be really aggressive to blast obnoxious entertainment in your guests face they have little recourse</td>\n",
       "      <td>negative</td>\n",
       "    </tr>\n",
       "    <tr>\n",
       "      <th>4</th>\n",
       "      <td>virginamerica and it be a really big bad thing about it</td>\n",
       "      <td>negative</td>\n",
       "    </tr>\n",
       "  </tbody>\n",
       "</table>\n",
       "</div>"
      ],
      "text/plain": [
       "                                                                                                                   text airline_sentiment\n",
       "0                                                                                       virginamerica what dhepburn say           neutral\n",
       "1                                                   virginamerica plus you have add commercials to the experience tacky          positive\n",
       "2                                                    virginamerica i do not today must mean i need to take another trip           neutral\n",
       "3  virginamerica it be really aggressive to blast obnoxious entertainment in your guests face they have little recourse          negative\n",
       "4                                                               virginamerica and it be a really big bad thing about it          negative"
      ]
     },
     "execution_count": 25,
     "metadata": {
      "tags": []
     },
     "output_type": "execute_result"
    }
   ],
   "source": [
    "#h. Print first 5 rows of data after pre-processing\n",
    "data.head()"
   ]
  },
  {
   "cell_type": "markdown",
   "metadata": {
    "id": "xWNa3-m6bt3t"
   },
   "source": [
    "4. Vectorization: (10 Marks)\n",
    "\n",
    "> *   a. Use CountVectorizer.\n",
    "*   b. Use TfidfVectorizer."
   ]
  },
  {
   "cell_type": "markdown",
   "metadata": {
    "id": "O2E_voW0eSYs"
   },
   "source": [
    "**a. Count Vectorizer**\n"
   ]
  },
  {
   "cell_type": "code",
   "execution_count": 26,
   "metadata": {
    "executionInfo": {
     "elapsed": 17804,
     "status": "ok",
     "timestamp": 1607694961340,
     "user": {
      "displayName": "Solomon Nuhu",
      "photoUrl": "https://lh3.googleusercontent.com/a-/AOh14Ggv4HA3lMlO6cSybPvdyNLxvAUB7S8iulFIRWU-=s64",
      "userId": "02036511388837544815"
     },
     "user_tz": -60
    },
    "id": "mTPy-3oqbrDn"
   },
   "outputs": [],
   "source": [
    "#Creating the bag of words\n",
    "from sklearn.feature_extraction.text import CountVectorizer\n",
    "# Initialize the \"CountVectorizer\" object, which is scikit-learn's bag of words tool.  \n",
    "count_vectorizer = CountVectorizer(analyzer = \"word\",   \\\n",
    "                             tokenizer = None,    \\\n",
    "                             preprocessor = None, \\\n",
    "                             stop_words = None,   \\\n",
    "                             max_features = 5000) \n",
    "\n",
    "# fit_transform() does two functions: First, it fits the model\n",
    "# and learns the vocabulary; second, it transforms our training data\n",
    "# into feature vectors. The input to fit_transform should be a list of \n",
    "# strings.\n",
    "count_vectorizer_data_features = count_vectorizer.fit_transform(clean_texts)\n",
    "\n",
    "# Convert to array\n",
    "count_vectorizer_data_features = count_vectorizer_data_features.toarray()"
   ]
  },
  {
   "cell_type": "code",
   "execution_count": 27,
   "metadata": {
    "colab": {
     "base_uri": "https://localhost:8080/"
    },
    "executionInfo": {
     "elapsed": 17791,
     "status": "ok",
     "timestamp": 1607694961341,
     "user": {
      "displayName": "Solomon Nuhu",
      "photoUrl": "https://lh3.googleusercontent.com/a-/AOh14Ggv4HA3lMlO6cSybPvdyNLxvAUB7S8iulFIRWU-=s64",
      "userId": "02036511388837544815"
     },
     "user_tz": -60
    },
    "id": "ld5LtTxFgObN",
    "outputId": "7cedadea-b360-48e8-e2b5-eb6cc18e5ec9"
   },
   "outputs": [
    {
     "name": "stdout",
     "output_type": "stream",
     "text": [
      "(14640, 5000)\n",
      "[[0 0 0 ... 0 0 0]\n",
      " [0 0 0 ... 0 0 0]\n",
      " [0 0 0 ... 0 0 0]\n",
      " ...\n",
      " [0 0 0 ... 0 0 0]\n",
      " [0 0 0 ... 0 0 0]\n",
      " [0 0 0 ... 0 0 0]]\n"
     ]
    }
   ],
   "source": [
    "#View shape and array of vectorized data\n",
    "print (count_vectorizer_data_features.shape)\n",
    "print(count_vectorizer_data_features)"
   ]
  },
  {
   "cell_type": "markdown",
   "metadata": {
    "id": "_9wKsCNqhH3L"
   },
   "source": [
    "**b. TfidfVectorizer.**"
   ]
  },
  {
   "cell_type": "code",
   "execution_count": 28,
   "metadata": {
    "executionInfo": {
     "elapsed": 19419,
     "status": "ok",
     "timestamp": 1607694962990,
     "user": {
      "displayName": "Solomon Nuhu",
      "photoUrl": "https://lh3.googleusercontent.com/a-/AOh14Ggv4HA3lMlO6cSybPvdyNLxvAUB7S8iulFIRWU-=s64",
      "userId": "02036511388837544815"
     },
     "user_tz": -60
    },
    "id": "bA7pJfnVhGtN"
   },
   "outputs": [],
   "source": [
    "from sklearn.feature_extraction.text import TfidfVectorizer\n",
    "# Initialize the \"TfidfVectorizer\" object, Convert a collection of raw documents to a matrix of TF-IDF features.\n",
    "tfidf_vectorizer = TfidfVectorizer(analyzer = \"word\",   \\\n",
    "                             tokenizer = None,    \\\n",
    "                             preprocessor = None, \\\n",
    "                             stop_words = None,   \\\n",
    "                             max_features = 5000,\n",
    "                             min_df=5, \n",
    "                             max_df=0.7,\n",
    "                             ngram_range=(1,2)) \n",
    "\n",
    "\n",
    "tfidf_vectorizer_data_features = tfidf_vectorizer.fit_transform(clean_texts)\n",
    "\n",
    "# Convert result to an array\n",
    "tfidf_vectorizer_data_features = tfidf_vectorizer_data_features.toarray()"
   ]
  },
  {
   "cell_type": "code",
   "execution_count": 29,
   "metadata": {
    "colab": {
     "base_uri": "https://localhost:8080/"
    },
    "executionInfo": {
     "elapsed": 19415,
     "status": "ok",
     "timestamp": 1607694962996,
     "user": {
      "displayName": "Solomon Nuhu",
      "photoUrl": "https://lh3.googleusercontent.com/a-/AOh14Ggv4HA3lMlO6cSybPvdyNLxvAUB7S8iulFIRWU-=s64",
      "userId": "02036511388837544815"
     },
     "user_tz": -60
    },
    "id": "QrGXJHWpiB8G",
    "outputId": "98ac20e5-58f9-493f-cc26-952aa30b2cec"
   },
   "outputs": [
    {
     "name": "stdout",
     "output_type": "stream",
     "text": [
      "(14640, 5000)\n",
      "[[0. 0. 0. ... 0. 0. 0.]\n",
      " [0. 0. 0. ... 0. 0. 0.]\n",
      " [0. 0. 0. ... 0. 0. 0.]\n",
      " ...\n",
      " [0. 0. 0. ... 0. 0. 0.]\n",
      " [0. 0. 0. ... 0. 0. 0.]\n",
      " [0. 0. 0. ... 0. 0. 0.]]\n"
     ]
    }
   ],
   "source": [
    "#View shape and array of vectorized data\n",
    "print (tfidf_vectorizer_data_features.shape)\n",
    "print(tfidf_vectorizer_data_features)"
   ]
  },
  {
   "cell_type": "markdown",
   "metadata": {
    "id": "278gVVIHjAxT"
   },
   "source": [
    "5. Fit and evaluate model using both type of vectorization. (6+6 Marks)"
   ]
  },
  {
   "cell_type": "markdown",
   "metadata": {
    "id": "TB_Il-wV6wcF"
   },
   "source": [
    "**a. Fit and Evaluate using Count Vectorizer**\n"
   ]
  },
  {
   "cell_type": "code",
   "execution_count": 30,
   "metadata": {
    "executionInfo": {
     "elapsed": 19403,
     "status": "ok",
     "timestamp": 1607694962997,
     "user": {
      "displayName": "Solomon Nuhu",
      "photoUrl": "https://lh3.googleusercontent.com/a-/AOh14Ggv4HA3lMlO6cSybPvdyNLxvAUB7S8iulFIRWU-=s64",
      "userId": "02036511388837544815"
     },
     "user_tz": -60
    },
    "id": "nuBWTlx_ZlRo"
   },
   "outputs": [],
   "source": [
    "# Split data into training and testing set.\n",
    "\n",
    "from sklearn.model_selection import train_test_split\n",
    "x = count_vectorizer_data_features     # Predictor feature columns\n",
    "y = data['airline_sentiment']   # Predicted class\n",
    "\n",
    "X_train, X_test, y_train, y_test = train_test_split(x, y, test_size=0.3, random_state=42)"
   ]
  },
  {
   "cell_type": "code",
   "execution_count": 31,
   "metadata": {
    "colab": {
     "base_uri": "https://localhost:8080/"
    },
    "executionInfo": {
     "elapsed": 78405,
     "status": "ok",
     "timestamp": 1607695022008,
     "user": {
      "displayName": "Solomon Nuhu",
      "photoUrl": "https://lh3.googleusercontent.com/a-/AOh14Ggv4HA3lMlO6cSybPvdyNLxvAUB7S8iulFIRWU-=s64",
      "userId": "02036511388837544815"
     },
     "user_tz": -60
    },
    "id": "LrRKfuzXXyPS",
    "outputId": "ebd30188-c4ed-40bb-a8b1-363f321b7056"
   },
   "outputs": [
    {
     "name": "stdout",
     "output_type": "stream",
     "text": [
      "RandomForestClassifier(bootstrap=True, ccp_alpha=0.0, class_weight=None,\n",
      "                       criterion='gini', max_depth=None, max_features='auto',\n",
      "                       max_leaf_nodes=None, max_samples=None,\n",
      "                       min_impurity_decrease=0.0, min_impurity_split=None,\n",
      "                       min_samples_leaf=1, min_samples_split=2,\n",
      "                       min_weight_fraction_leaf=0.0, n_estimators=10, n_jobs=4,\n",
      "                       oob_score=False, random_state=None, verbose=0,\n",
      "                       warm_start=False)\n",
      "\n",
      "Cross Validation score for count Vectorizer 0.7157103825136613\n",
      "\n",
      "Test accuracy for Count Vectorizer 0.7584244080145719\n",
      "\n"
     ]
    }
   ],
   "source": [
    "# Using Random Forest to build model for the classification of reviews.\n",
    "# Also calculating the cross validation score.\n",
    "\n",
    "from sklearn.ensemble import RandomForestClassifier\n",
    "from sklearn.model_selection import cross_val_score\n",
    "\n",
    "forest = RandomForestClassifier(n_estimators=10, n_jobs=4)\n",
    "\n",
    "forest = forest.fit(X_train, y_train) #fitting the model\n",
    "\n",
    "print(forest)\n",
    "print()\n",
    "\n",
    "#Evalute by cross validation\n",
    "print(\"Cross Validation score for count Vectorizer\" ,np.mean(cross_val_score(forest, count_vectorizer_data_features, y, cv=10)))\n",
    "print()\n",
    "\n",
    "#Print model testing accuracy\n",
    "print(\"Test accuracy for Count Vectorizer\",forest.score(X_test, y_test))\n",
    "print()"
   ]
  },
  {
   "cell_type": "code",
   "execution_count": 32,
   "metadata": {
    "executionInfo": {
     "elapsed": 78392,
     "status": "ok",
     "timestamp": 1607695022010,
     "user": {
      "displayName": "Solomon Nuhu",
      "photoUrl": "https://lh3.googleusercontent.com/a-/AOh14Ggv4HA3lMlO6cSybPvdyNLxvAUB7S8iulFIRWU-=s64",
      "userId": "02036511388837544815"
     },
     "user_tz": -60
    },
    "id": "zuwujDwkZIW7"
   },
   "outputs": [],
   "source": [
    "# Predict the result for test data using the model built above.\n",
    "result = forest.predict(X_test)"
   ]
  },
  {
   "cell_type": "code",
   "execution_count": 33,
   "metadata": {
    "colab": {
     "base_uri": "https://localhost:8080/",
     "height": 495
    },
    "executionInfo": {
     "elapsed": 78887,
     "status": "ok",
     "timestamp": 1607695022515,
     "user": {
      "displayName": "Solomon Nuhu",
      "photoUrl": "https://lh3.googleusercontent.com/a-/AOh14Ggv4HA3lMlO6cSybPvdyNLxvAUB7S8iulFIRWU-=s64",
      "userId": "02036511388837544815"
     },
     "user_tz": -60
    },
    "id": "vLRfUCOlaaHH",
    "outputId": "5d99155b-ea9a-4460-c225-534991011510"
   },
   "outputs": [
    {
     "name": "stdout",
     "output_type": "stream",
     "text": [
      "[[2647  115   52]\n",
      " [ 490  346   48]\n",
      " [ 253  103  338]]\n"
     ]
    },
    {
     "data": {
      "text/plain": [
       "<matplotlib.axes._subplots.AxesSubplot at 0x7fd2b4fc0550>"
      ]
     },
     "execution_count": 33,
     "metadata": {
      "tags": []
     },
     "output_type": "execute_result"
    },
    {
     "data": {
      "image/png": "[encoded data removed]",
      "text/plain": [
       "<Figure size 720x504 with 2 Axes>"
      ]
     },
     "metadata": {
      "needs_background": "light",
      "tags": []
     },
     "output_type": "display_data"
    }
   ],
   "source": [
    "# Print and plot Confusion matirx to get an idea of how the distribution of the prediction is, among all the classes.\n",
    "\n",
    "import matplotlib.pyplot as plt\n",
    "import seaborn as sns\n",
    "from sklearn.metrics import confusion_matrix\n",
    "\n",
    "conf_mat = confusion_matrix(y_test, result)\n",
    "\n",
    "print(conf_mat)\n",
    "\n",
    "df_cm = pd.DataFrame(conf_mat, index = ['Negative', 'Neutral', 'Positive'],\n",
    "                  columns = ['Negative', 'Neutral', 'Positive'])\n",
    "plt.figure(figsize = (10,7))\n",
    "sns.heatmap(df_cm, annot=True, fmt='g')"
   ]
  },
  {
   "cell_type": "markdown",
   "metadata": {
    "id": "GdzGDJQn6_CQ"
   },
   "source": [
    "**b. Fit and Evaluate using Tfidf Vectorizer**\n"
   ]
  },
  {
   "cell_type": "code",
   "execution_count": 34,
   "metadata": {
    "executionInfo": {
     "elapsed": 78879,
     "status": "ok",
     "timestamp": 1607695022524,
     "user": {
      "displayName": "Solomon Nuhu",
      "photoUrl": "https://lh3.googleusercontent.com/a-/AOh14Ggv4HA3lMlO6cSybPvdyNLxvAUB7S8iulFIRWU-=s64",
      "userId": "02036511388837544815"
     },
     "user_tz": -60
    },
    "id": "vDryEqA7jFQa"
   },
   "outputs": [],
   "source": [
    "x_tfidf = tfidf_vectorizer_data_features     # Predictor feature columns for tfidf\n",
    "y_tfidf = data['airline_sentiment']   # Predicted class\n",
    "X_train2, X_test2, y_train2, y_test2 = train_test_split(x_tfidf, y_tfidf, test_size=0.3, random_state=42)\n"
   ]
  },
  {
   "cell_type": "code",
   "execution_count": 35,
   "metadata": {
    "colab": {
     "base_uri": "https://localhost:8080/"
    },
    "executionInfo": {
     "elapsed": 153646,
     "status": "ok",
     "timestamp": 1607695097297,
     "user": {
      "displayName": "Solomon Nuhu",
      "photoUrl": "https://lh3.googleusercontent.com/a-/AOh14Ggv4HA3lMlO6cSybPvdyNLxvAUB7S8iulFIRWU-=s64",
      "userId": "02036511388837544815"
     },
     "user_tz": -60
    },
    "id": "6V33Ac1587C2",
    "outputId": "f553dd75-8522-433f-cbcb-3b62d181400c"
   },
   "outputs": [
    {
     "name": "stdout",
     "output_type": "stream",
     "text": [
      "RandomForestClassifier(bootstrap=True, ccp_alpha=0.0, class_weight=None,\n",
      "                       criterion='gini', max_depth=None, max_features='auto',\n",
      "                       max_leaf_nodes=None, max_samples=None,\n",
      "                       min_impurity_decrease=0.0, min_impurity_split=None,\n",
      "                       min_samples_leaf=1, min_samples_split=2,\n",
      "                       min_weight_fraction_leaf=0.0, n_estimators=10, n_jobs=4,\n",
      "                       oob_score=False, random_state=None, verbose=0,\n",
      "                       warm_start=False)\n",
      "\n",
      "Cross Validation score for Tfidf Vectorizer 0.7208333333333334\n",
      "\n",
      "Test accuracy for Tfidf Vectorizer 0.7591074681238615\n",
      "\n"
     ]
    }
   ],
   "source": [
    "# Using Random Forest to build model for the classification of reviews.\n",
    "# Also calculating the cross validation score.\n",
    "\n",
    "from sklearn.ensemble import RandomForestClassifier\n",
    "from sklearn.model_selection import cross_val_score\n",
    "\n",
    "forest = RandomForestClassifier(n_estimators=10, n_jobs=4)\n",
    "\n",
    "forest = forest.fit(X_train2, y_train2)\n",
    "\n",
    "print(forest)\n",
    "print()\n",
    "\n",
    "print(\"Cross Validation score for Tfidf Vectorizer\",np.mean(cross_val_score(forest, x_tfidf, y_tfidf, cv=10)))\n",
    "print()\n",
    "\n",
    "#Print model testing accuracy\n",
    "print(\"Test accuracy for Tfidf Vectorizer\",forest.score(X_test2, y_test2))\n",
    "print()"
   ]
  },
  {
   "cell_type": "code",
   "execution_count": 36,
   "metadata": {
    "executionInfo": {
     "elapsed": 153639,
     "status": "ok",
     "timestamp": 1607695097300,
     "user": {
      "displayName": "Solomon Nuhu",
      "photoUrl": "https://lh3.googleusercontent.com/a-/AOh14Ggv4HA3lMlO6cSybPvdyNLxvAUB7S8iulFIRWU-=s64",
      "userId": "02036511388837544815"
     },
     "user_tz": -60
    },
    "id": "vxMaBRnLvl_A"
   },
   "outputs": [],
   "source": [
    "result = forest.predict(X_test2)"
   ]
  },
  {
   "cell_type": "code",
   "execution_count": 37,
   "metadata": {
    "colab": {
     "base_uri": "https://localhost:8080/",
     "height": 445
    },
    "executionInfo": {
     "elapsed": 153633,
     "status": "ok",
     "timestamp": 1607695097301,
     "user": {
      "displayName": "Solomon Nuhu",
      "photoUrl": "https://lh3.googleusercontent.com/a-/AOh14Ggv4HA3lMlO6cSybPvdyNLxvAUB7S8iulFIRWU-=s64",
      "userId": "02036511388837544815"
     },
     "user_tz": -60
    },
    "id": "qO8bC_9V95aD",
    "outputId": "1de51de4-3b3b-43ed-c113-bb6fdc4a6e52"
   },
   "outputs": [
    {
     "data": {
      "text/plain": [
       "<matplotlib.axes._subplots.AxesSubplot at 0x7fd2b52b5160>"
      ]
     },
     "execution_count": 37,
     "metadata": {
      "tags": []
     },
     "output_type": "execute_result"
    },
    {
     "data": {
      "image/png": "[encoded data removed]",
      "text/plain": [
       "<Figure size 720x504 with 2 Axes>"
      ]
     },
     "metadata": {
      "needs_background": "light",
      "tags": []
     },
     "output_type": "display_data"
    }
   ],
   "source": [
    "#Confusion matrix for tfidf_vectorizer\n",
    "conf_mat = confusion_matrix(y_test2, result)\n",
    "\n",
    "df_cm = pd.DataFrame(conf_mat, index = ['Negative', 'Neutral', 'Positive'],\n",
    "                  columns = ['Negative', 'Neutral', 'Positive'])\n",
    "plt.figure(figsize = (10,7))\n",
    "sns.heatmap(df_cm, annot=True, fmt='g')"
   ]
  },
  {
   "cell_type": "markdown",
   "metadata": {
    "id": "CDSER8E6_P9q"
   },
   "source": [
    "6. Summarize your understanding of the application of Various Pre-processing and Vectorization and\n",
    "performance of your model on this dataset. (8 Marks)"
   ]
  },
  {
   "cell_type": "markdown",
   "metadata": {
    "id": "fBcz6tsPqer6"
   },
   "source": [
    "**Pre-processing**\n",
    "1. HTML tag stripping\n",
    "-  Returns all the text in a document or beneath a tag\n",
    "2. Replace Contractions\n",
    "- Contractions are shortened version of words. They are converted to their lenghtened form. eg wouldn't is converted to would not\n",
    "3. Tokenization\n",
    "- longer strings of text are splitted into smaller pieces, or tokens. \n",
    "4. Removing numbers\n",
    "- Remove numbers from list of tokenized words\n",
    "5. Remove special characters\n",
    "- Special characters are removed from list of tokenized words\n",
    "6. Remove punctuation\n",
    "- Punctuations were removed from list of tokenized words\n",
    "7. Convert text to lower case\n",
    "- converting all text to the same case reduces number of words in the documents which in turn reduces computation time\n",
    "8. Remove empty strings\n",
    "- Remove empty string from list of tokenized words\n",
    "9. Lemmatization\n",
    "- Lemmatization converts word into their base form and ensuring the words have meaning and belongs to the language. \n",
    "\n",
    "**Vectorization**\n",
    "Two methods were used\n",
    "\n",
    "- **Bag of words(CountVectorization)**:\n",
    "A dictionary that contains set of all unique words from the dataset was created. The frequency of occurence of the word is counted. If there are d unique words in our dictionary then for every sentence or review the vector will be of length d and count of word from review is stored at its particular location in vector. The vector will be highly sparse in such case.\n",
    "-**Tf-idf(TfIdfVectorization)  (Term Frequency - Inverse Document Frequency)**:\n",
    "It attaches less importance to most frequently occuring words and also considers less frequently occuring words. Term Frequency is number of times a particular word occurs in a review divided by total number of words in review. The term frequency value ranges from 0 to 1. Inverse Document Frequency is calculated as log(Total Number of Docs / Number of Docs which contains particular word).\n",
    "\n",
    "**Performance of model**\n",
    "- RandomForestClassifier on TfidfVectorizer has an accuracy of 75.91% and a cross validation score of 72.08% whereas RandomForestClassifier on CountVectorizer has an accuracy of 75.84% and a cross validation score of 71.57%. This shows that the model using TfidfVectorizer is performed better.\n",
    "The Model is able to predict airline sentiment correctly 76% of the time.\n",
    "\n"
   ]
  }
 ],
 "metadata": {
  "colab": {
   "authorship_tag": "ABX9TyODgnha7Ks1n1/kSVkbUPrO",
   "collapsed_sections": [],
   "name": "sentiment.ipynb",
   "provenance": []
  },
  "kernelspec": {
   "display_name": "Python 3",
   "language": "python",
   "name": "python3"
  },
  "language_info": {
   "codemirror_mode": {
    "name": "ipython",
    "version": 3
   },
   "file_extension": ".py",
   "mimetype": "text/x-python",
   "name": "python",
   "nbconvert_exporter": "python",
   "pygments_lexer": "ipython3",
   "version": "3.8.3"
  }
 },
 "nbformat": 4,
 "nbformat_minor": 1
}
